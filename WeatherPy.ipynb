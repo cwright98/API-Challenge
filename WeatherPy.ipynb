{
 "cells": [
  {
   "cell_type": "markdown",
   "metadata": {},
   "source": [
    "# WeatherPy\n",
    "----\n",
    "\n",
    "#### Note\n",
    "* Instructions have been included for each segment. You do not have to follow them exactly, but they are included to help you think through the steps."
   ]
  },
  {
   "cell_type": "code",
   "execution_count": 2,
   "metadata": {
    "scrolled": true
   },
   "outputs": [],
   "source": [
    "# Dependencies and Setup\n",
    "import matplotlib.pyplot as plt\n",
    "import pandas as pd\n",
    "import numpy as np\n",
    "import requests\n",
    "import time\n",
    "from scipy.stats import linregress\n",
    "\n",
    "# Import API key\n",
    "from api_keys import weather_api_key\n",
    "\n",
    "# Incorporated citipy to determine city based on latitude and longitude\n",
    "from citipy import citipy\n",
    "\n",
    "# Output File (CSV)\n",
    "output_data_file = \"output_data/cities.csv\"\n",
    "\n",
    "# Range of latitudes and longitudes\n",
    "lat_range = (-90, 90)\n",
    "lng_range = (-180, 180)"
   ]
  },
  {
   "cell_type": "markdown",
   "metadata": {},
   "source": [
    "## Generate Cities List"
   ]
  },
  {
   "cell_type": "code",
   "execution_count": 3,
   "metadata": {},
   "outputs": [
    {
     "name": "stdout",
     "output_type": "stream",
     "text": [
      "5e4d1ad8d0b43ddedc7096855b8230a9\n"
     ]
    }
   ],
   "source": [
    "# List for holding lat_lngs and cities\n",
    "lat_lngs = []\n",
    "cities = []\n",
    "\n",
    "# Create a set of random lat and lng combinations\n",
    "lats = np.random.uniform(lat_range[0], lat_range[1], size=1500)\n",
    "lngs = np.random.uniform(lng_range[0], lng_range[1], size=1500)\n",
    "lat_lngs = zip(lats, lngs)\n",
    "\n",
    "# Identify nearest city for each lat, lng combination\n",
    "for lat_lng in lat_lngs:\n",
    "    city = citipy.nearest_city(lat_lng[0], lat_lng[1]).city_name\n",
    "    \n",
    "    # If the city is unique, then add it to a our cities list\n",
    "    if city not in cities:\n",
    "        cities.append(city)\n",
    "\n",
    "# Print the city count to confirm sufficient count\n",
    "\n",
    "cities=cities[0:501]\n",
    "len(cities)\n",
    "print(weather_api_key)"
   ]
  },
  {
   "cell_type": "markdown",
   "metadata": {},
   "source": [
    "### Perform API Calls\n",
    "* Perform a weather check on each city using a series of successive API calls.\n",
    "* Include a print log of each city as it'sbeing processed (with the city number and city name).\n"
   ]
  },
  {
   "cell_type": "code",
   "execution_count": 4,
   "metadata": {},
   "outputs": [
    {
     "ename": "NameError",
     "evalue": "name 'base_url' is not defined",
     "output_type": "error",
     "traceback": [
      "\u001b[1;31m---------------------------------------------------------------------------\u001b[0m",
      "\u001b[1;31mNameError\u001b[0m                                 Traceback (most recent call last)",
      "\u001b[1;32m<ipython-input-4-15dfeccdb3a8>\u001b[0m in \u001b[0;36m<module>\u001b[1;34m\u001b[0m\n\u001b[0;32m      1\u001b[0m \u001b[0mcities\u001b[0m\u001b[1;33m[\u001b[0m\u001b[1;36m14\u001b[0m\u001b[1;33m]\u001b[0m\u001b[1;33m\u001b[0m\u001b[1;33m\u001b[0m\u001b[0m\n\u001b[1;32m----> 2\u001b[1;33m \u001b[0mresponse\u001b[0m\u001b[1;33m=\u001b[0m\u001b[0mrequests\u001b[0m\u001b[1;33m.\u001b[0m\u001b[0mget\u001b[0m\u001b[1;33m(\u001b[0m\u001b[0mbase_url\u001b[0m\u001b[1;33m)\u001b[0m\u001b[1;33m.\u001b[0m\u001b[0mjson\u001b[0m\u001b[1;33m(\u001b[0m\u001b[1;33m)\u001b[0m\u001b[1;33m\u001b[0m\u001b[1;33m\u001b[0m\u001b[0m\n\u001b[0m\u001b[0;32m      3\u001b[0m \u001b[0mresponse\u001b[0m\u001b[1;33m\u001b[0m\u001b[1;33m\u001b[0m\u001b[0m\n",
      "\u001b[1;31mNameError\u001b[0m: name 'base_url' is not defined"
     ]
    }
   ],
   "source": [
    "cities[14]\n",
    "response=requests.get(base_url).json()\n",
    "response"
   ]
  },
  {
   "cell_type": "code",
   "execution_count": 5,
   "metadata": {},
   "outputs": [
    {
     "data": {
      "text/html": [
       "<div>\n",
       "<style scoped>\n",
       "    .dataframe tbody tr th:only-of-type {\n",
       "        vertical-align: middle;\n",
       "    }\n",
       "\n",
       "    .dataframe tbody tr th {\n",
       "        vertical-align: top;\n",
       "    }\n",
       "\n",
       "    .dataframe thead th {\n",
       "        text-align: right;\n",
       "    }\n",
       "</style>\n",
       "<table border=\"1\" class=\"dataframe\">\n",
       "  <thead>\n",
       "    <tr style=\"text-align: right;\">\n",
       "      <th></th>\n",
       "      <th>City</th>\n",
       "      <th>Lat</th>\n",
       "      <th>Lng</th>\n",
       "      <th>temp_max</th>\n",
       "      <th>Humidity</th>\n",
       "      <th>Cloudiness</th>\n",
       "      <th>Wind_speed</th>\n",
       "      <th>Country</th>\n",
       "      <th>Date</th>\n",
       "    </tr>\n",
       "  </thead>\n",
       "  <tbody>\n",
       "    <tr>\n",
       "      <th>0</th>\n",
       "      <td>butaritari</td>\n",
       "      <td>NaN</td>\n",
       "      <td>NaN</td>\n",
       "      <td>NaN</td>\n",
       "      <td>NaN</td>\n",
       "      <td>NaN</td>\n",
       "      <td>NaN</td>\n",
       "      <td>NaN</td>\n",
       "      <td>NaN</td>\n",
       "    </tr>\n",
       "    <tr>\n",
       "      <th>1</th>\n",
       "      <td>belushya guba</td>\n",
       "      <td>NaN</td>\n",
       "      <td>NaN</td>\n",
       "      <td>NaN</td>\n",
       "      <td>NaN</td>\n",
       "      <td>NaN</td>\n",
       "      <td>NaN</td>\n",
       "      <td>NaN</td>\n",
       "      <td>NaN</td>\n",
       "    </tr>\n",
       "    <tr>\n",
       "      <th>2</th>\n",
       "      <td>alugan</td>\n",
       "      <td>NaN</td>\n",
       "      <td>NaN</td>\n",
       "      <td>NaN</td>\n",
       "      <td>NaN</td>\n",
       "      <td>NaN</td>\n",
       "      <td>NaN</td>\n",
       "      <td>NaN</td>\n",
       "      <td>NaN</td>\n",
       "    </tr>\n",
       "    <tr>\n",
       "      <th>3</th>\n",
       "      <td>mataura</td>\n",
       "      <td>NaN</td>\n",
       "      <td>NaN</td>\n",
       "      <td>NaN</td>\n",
       "      <td>NaN</td>\n",
       "      <td>NaN</td>\n",
       "      <td>NaN</td>\n",
       "      <td>NaN</td>\n",
       "      <td>NaN</td>\n",
       "    </tr>\n",
       "    <tr>\n",
       "      <th>4</th>\n",
       "      <td>ushuaia</td>\n",
       "      <td>NaN</td>\n",
       "      <td>NaN</td>\n",
       "      <td>NaN</td>\n",
       "      <td>NaN</td>\n",
       "      <td>NaN</td>\n",
       "      <td>NaN</td>\n",
       "      <td>NaN</td>\n",
       "      <td>NaN</td>\n",
       "    </tr>\n",
       "  </tbody>\n",
       "</table>\n",
       "</div>"
      ],
      "text/plain": [
       "            City  Lat  Lng  temp_max  Humidity  Cloudiness  Wind_speed  \\\n",
       "0     butaritari  NaN  NaN       NaN       NaN         NaN         NaN   \n",
       "1  belushya guba  NaN  NaN       NaN       NaN         NaN         NaN   \n",
       "2         alugan  NaN  NaN       NaN       NaN         NaN         NaN   \n",
       "3        mataura  NaN  NaN       NaN       NaN         NaN         NaN   \n",
       "4        ushuaia  NaN  NaN       NaN       NaN         NaN         NaN   \n",
       "\n",
       "   Country  Date  \n",
       "0      NaN   NaN  \n",
       "1      NaN   NaN  \n",
       "2      NaN   NaN  \n",
       "3      NaN   NaN  \n",
       "4      NaN   NaN  "
      ]
     },
     "execution_count": 5,
     "metadata": {},
     "output_type": "execute_result"
    }
   ],
   "source": [
    "base_url=f\"http://api.openweathermap.org/data/2.5/weather?q={cities[50]}&appid={weather_api_key}\"\n",
    "response=requests.get(base_url).json()\n",
    "response\n",
    "#City Lat Lng Max Temp Humidity Cloudiness Wind Speed Country Date\n",
    "df=pd.DataFrame({'City': [], \"Lat\":[], \"Lng\":[], \"temp_max\":[], \"Humidity\": [], \"Cloudiness\": [], \"Wind_speed\":[],\n",
    "                 \"Country\" : [], \"Date\":[]})\n",
    "df.City=cities\n",
    "i=1\n",
    "df.iloc[i, 1]\n",
    "df.head()"
   ]
  },
  {
   "cell_type": "markdown",
   "metadata": {},
   "source": [
    "### Convert Raw Data to DataFrame\n",
    "* Export the city data into a .csv.\n",
    "* Display the DataFrame"
   ]
  },
  {
   "cell_type": "code",
   "execution_count": 6,
   "metadata": {},
   "outputs": [
    {
     "data": {
      "text/plain": [
       "13"
      ]
     },
     "execution_count": 6,
     "metadata": {},
     "output_type": "execute_result"
    }
   ],
   "source": [
    "df.head()\n",
    "i=40\n",
    "url=f\"http://api.openweathermap.org/data/2.5/weather?q={df.loc[i, 'City']}&appid={weather_api_key}\"\n",
    "response=requests.get(url).json()\n",
    "len(response)\n",
    "#{'cod': '404', 'message': 'city not found'}"
   ]
  },
  {
   "cell_type": "code",
   "execution_count": 7,
   "metadata": {},
   "outputs": [
    {
     "name": "stdout",
     "output_type": "stream",
     "text": [
      "butaritari\n",
      "belushya guba\n",
      "alugan\n",
      "mataura\n",
      "ushuaia\n",
      "mys shmidta\n",
      "rikitea\n",
      "ahipara\n",
      "vaini\n",
      "bluff\n",
      "grindavik\n",
      "coahuayana\n",
      "bereda\n",
      "hasaki\n",
      "saint george\n",
      "victoria\n",
      "sampit\n",
      "hilo\n",
      "cervo\n",
      "meulaboh\n",
      "belen\n",
      "ballina\n",
      "bredasdorp\n",
      "severnoye\n",
      "lagoa\n",
      "hay river\n",
      "busselton\n",
      "lensk\n",
      "east london\n",
      "khatanga\n",
      "kapaa\n",
      "nizhniy tsasuchey\n",
      "komsomolskiy\n",
      "axim\n",
      "kargasok\n",
      "roma\n",
      "hermanus\n",
      "madimba\n",
      "hobart\n",
      "taolanaro\n",
      "guerrero negro\n",
      "puerto ayora\n",
      "vestmanna\n",
      "bathsheba\n",
      "puerto carreno\n",
      "henties bay\n",
      "port lincoln\n",
      "genhe\n",
      "quatre cocos\n",
      "cidreira\n",
      "moyale\n",
      "juneau\n",
      "albany\n",
      "barentsburg\n",
      "kalmunai\n",
      "cabo san lucas\n",
      "longyearbyen\n",
      "almaznyy\n",
      "san quintin\n",
      "dikson\n",
      "san julian\n",
      "marsabit\n",
      "lolua\n",
      "tolaga bay\n",
      "lebu\n",
      "punta arenas\n",
      "denpasar\n",
      "yellowknife\n",
      "boyuibe\n",
      "fort saint john\n",
      "virginia beach\n",
      "okhotsk\n",
      "ostrovnoy\n",
      "luderitz\n",
      "kavieng\n",
      "cape town\n",
      "zambezi\n",
      "grants\n",
      "praia da vitoria\n",
      "chokurdakh\n",
      "pozo colorado\n",
      "hithadhoo\n",
      "souillac\n",
      "nikolskoye\n",
      "abilene\n",
      "georgetown\n",
      "chambersburg\n",
      "hamilton\n",
      "sumbawa\n",
      "hobyo\n",
      "ouargaye\n",
      "jiayuguan\n",
      "zapolyarnyy\n",
      "faanui\n",
      "kaniama\n",
      "tasiilaq\n",
      "zabol\n",
      "saint-pierre\n",
      "usta muhammad\n",
      "chuy\n",
      "paamiut\n",
      "dwarka\n",
      "bambous virieux\n",
      "lompoc\n",
      "iqaluit\n",
      "monticello\n",
      "grand river south east\n",
      "beloha\n",
      "cayenne\n",
      "sur\n",
      "illoqqortoormiut\n",
      "wanning\n",
      "vardo\n",
      "touros\n",
      "caconda\n",
      "tigbao\n",
      "aksarka\n",
      "hambantota\n",
      "pisco\n",
      "ribeira grande\n",
      "kamenka\n",
      "avarua\n",
      "qaanaaq\n",
      "jamestown\n",
      "bengkulu\n",
      "canavieiras\n",
      "teya\n",
      "sentyabrskiy\n",
      "guerrero\n",
      "mar del plata\n",
      "new norfolk\n",
      "port alfred\n",
      "harqalah\n",
      "whitianga\n",
      "esperance\n",
      "atuona\n",
      "airai\n",
      "san juan\n",
      "aklavik\n",
      "aksu\n",
      "mastic beach\n",
      "upernavik\n",
      "kaitangata\n",
      "sataua\n",
      "carnarvon\n",
      "promyshlennovskiy\n",
      "ampanihy\n",
      "bairnsdale\n",
      "attawapiskat\n",
      "port elizabeth\n",
      "shiliguri\n",
      "wattegama\n",
      "arcos de la frontera\n",
      "bayonne\n",
      "pangody\n",
      "provideniya\n",
      "portland\n",
      "little current\n",
      "bonito\n",
      "saint-philippe\n",
      "tsihombe\n",
      "port hedland\n",
      "mahebourg\n",
      "sibolga\n",
      "bom jesus\n",
      "hunterville\n",
      "gat\n",
      "te anau\n",
      "tres arroyos\n",
      "aksum\n",
      "rongcheng\n",
      "salalah\n",
      "tiksi\n",
      "fevralsk\n",
      "mathathane\n",
      "barrow\n",
      "myitkyina\n",
      "saldanha\n",
      "arraial do cabo\n",
      "kuznechnoye\n",
      "plesetsk\n",
      "saryshagan\n",
      "sao filipe\n",
      "seoul\n",
      "noumea\n",
      "vaitupu\n",
      "solnechnyy\n",
      "berea\n",
      "nakasongola\n",
      "katangli\n",
      "kadykchan\n",
      "vuktyl\n",
      "prieska\n",
      "carutapera\n",
      "comodoro rivadavia\n",
      "itaituba\n",
      "olinda\n",
      "thompson\n",
      "dingle\n",
      "pocone\n",
      "qaqortoq\n",
      "oshnaviyeh\n",
      "sioux lookout\n",
      "artyk\n",
      "tuktoyaktuk\n",
      "kankan\n",
      "zaysan\n",
      "dali\n",
      "constitucion\n",
      "kyabe\n",
      "jiangyou\n",
      "tuatapere\n",
      "mandalgovi\n",
      "wynyard\n",
      "paucartambo\n",
      "ancud\n",
      "marcona\n",
      "gorno-chuyskiy\n",
      "pahrump\n",
      "talnakh\n",
      "nizwa\n",
      "pochutla\n",
      "norfolk\n",
      "oktyabrskoye\n",
      "freeport\n",
      "awbari\n",
      "husavik\n",
      "acapulco\n",
      "andros town\n",
      "saleaula\n",
      "kloulklubed\n",
      "geraldton\n",
      "amparafaravola\n",
      "san bernardo\n",
      "nova odesa\n",
      "amderma\n",
      "aki\n",
      "saskylakh\n",
      "jaciara\n",
      "norman wells\n",
      "jalu\n",
      "vestmannaeyjar\n",
      "kogon\n",
      "namibe\n",
      "sulangan\n",
      "phulabani\n",
      "shimoda\n",
      "lasa\n",
      "sao jose da coroa grande\n",
      "goderich\n",
      "inhambane\n",
      "broken hill\n",
      "gouyave\n",
      "kahului\n",
      "ulladulla\n",
      "kodiak\n",
      "vanimo\n",
      "thohoyandou\n",
      "karratha\n",
      "manado\n",
      "lodja\n",
      "los lunas\n",
      "kasongo-lunda\n",
      "lazaro cardenas\n",
      "worthington\n",
      "brainerd\n",
      "margate\n",
      "jiaohe\n",
      "karaul\n",
      "shima\n",
      "macherla\n",
      "lata\n",
      "santa isabel do rio negro\n",
      "castro\n",
      "ponta do sol\n",
      "sorong\n",
      "bubaque\n",
      "scottsburgh\n",
      "kutum\n",
      "inverell\n",
      "rapid valley\n",
      "ornskoldsvik\n",
      "sorkjosen\n",
      "kamenskoye\n",
      "ginda\n",
      "cottonwood\n",
      "tomatlan\n",
      "narsaq\n",
      "alyangula\n",
      "gidole\n",
      "qasigiannguit\n",
      "tura\n",
      "balimo\n",
      "college\n",
      "ryotsu\n",
      "joensuu\n",
      "kota bahru\n",
      "high rock\n",
      "mbandaka\n",
      "severo-kurilsk\n",
      "port macquarie\n",
      "homer\n",
      "parrita\n",
      "karasuk\n",
      "sechura\n",
      "nanortalik\n",
      "balad\n",
      "marawi\n",
      "danville\n",
      "shingu\n",
      "port-gentil\n",
      "ucluelet\n",
      "belaya gora\n",
      "desaguadero\n",
      "klaksvik\n",
      "manokwari\n",
      "bowen\n",
      "louisbourg\n",
      "ivanteyevka\n",
      "tiznit\n",
      "wuwei\n",
      "banda aceh\n",
      "torbay\n",
      "tigil\n",
      "yeniseysk\n",
      "loandjili\n",
      "kapoeta\n",
      "necochea\n",
      "cap malheureux\n",
      "nouadhibou\n",
      "gold coast\n",
      "samalaeulu\n",
      "nyurba\n",
      "beringovskiy\n",
      "makarov\n",
      "patacamaya\n",
      "olafsvik\n",
      "koshurnikovo\n",
      "barra do garcas\n",
      "san rafael\n",
      "naze\n",
      "abha\n",
      "sao joao da barra\n",
      "cherskiy\n",
      "union\n",
      "mehamn\n",
      "saint combs\n",
      "mecca\n",
      "sitka\n",
      "shitanjing\n",
      "gladstone\n",
      "inuvik\n",
      "tacoronte\n",
      "umm kaddadah\n",
      "baraki barak\n",
      "haimen\n",
      "marevo\n",
      "urumqi\n",
      "santa catarina de tepehuanes\n",
      "melo\n",
      "codrington\n",
      "kuche\n",
      "san-pedro\n",
      "whitehorse\n",
      "portobelo\n",
      "ust-tsilma\n",
      "nome\n",
      "taoudenni\n",
      "kyzyl-suu\n",
      "karaidel\n",
      "salinas\n",
      "mount isa\n",
      "zhangjiakou\n",
      "dudinka\n",
      "bethel\n",
      "kruisfontein\n",
      "kenai\n",
      "yulara\n",
      "tabou\n",
      "salekhard\n",
      "greeley\n",
      "moron\n",
      "hualmay\n",
      "gardner\n",
      "raahe\n",
      "samusu\n",
      "kysyl-syr\n",
      "srednekolymsk\n",
      "peranamallur\n",
      "bandarbeyla\n",
      "ruidoso\n",
      "kelowna\n",
      "turayf\n",
      "roald\n",
      "muisne\n",
      "pacific grove\n",
      "korla\n",
      "shahr-e kord\n",
      "kaohsiung\n",
      "ugoofaaru\n",
      "bejar\n",
      "baleshwar\n",
      "katha\n",
      "ekhabi\n",
      "manggar\n",
      "harper\n",
      "yanan\n",
      "kulim\n",
      "anshun\n",
      "apostolove\n",
      "langsa\n",
      "coihaique\n",
      "yeroham\n",
      "saint-michel-des-saints\n",
      "mattawa\n",
      "san francisco morazan\n",
      "maceio\n",
      "springdale\n",
      "la plata\n",
      "winnemucca\n",
      "najran\n",
      "saint-joseph\n",
      "bushehr\n",
      "skalistyy\n",
      "hofn\n",
      "andilamena\n",
      "beyneu\n",
      "alofi\n",
      "tiarei\n",
      "umzimvubu\n",
      "metro\n",
      "gizo\n",
      "chapeco\n",
      "pevek\n",
      "bairiki\n",
      "toliary\n",
      "poli\n",
      "lahij\n",
      "broome\n",
      "alice springs\n",
      "henderson\n",
      "setermoen\n",
      "yar-sale\n",
      "jackson\n",
      "limerick\n",
      "moustheni\n",
      "ciudad bolivar\n",
      "alotau\n",
      "walvis bay\n",
      "loreto\n",
      "godfrey\n",
      "mezhova\n",
      "truth or consequences\n",
      "omboue\n",
      "burnie\n",
      "palabuhanratu\n",
      "san cristobal\n",
      "bontang\n",
      "sinnamary\n",
      "sayhat\n",
      "dipkarpaz\n",
      "villarrica\n",
      "moletai\n",
      "kalmar\n",
      "gamba\n",
      "chagda\n",
      "cairns\n",
      "creel\n",
      "kavaratti\n",
      "bur gabo\n",
      "brae\n",
      "sturgis\n",
      "yangjiang\n",
      "watsa\n",
      "matara\n",
      "nizhneyansk\n",
      "huarmey\n",
      "saint anthony\n",
      "witu\n",
      "kedarnath\n",
      "tautira\n",
      "shetpe\n",
      "leningradskiy\n",
      "saint-francois\n",
      "ahuimanu\n",
      "baykit\n",
      "naples\n",
      "kautokeino\n",
      "lorengau\n",
      "surab\n",
      "hovd\n",
      "platanos\n",
      "havre-saint-pierre\n",
      "sao felix do xingu\n",
      "isla mujeres\n",
      "fairbanks\n",
      "great yarmouth\n",
      "cookeville\n",
      "grand-lahou\n",
      "ostersund\n",
      "chernyshevskiy\n"
     ]
    }
   ],
   "source": [
    "for i, row in df.iterrows(): \n",
    "    url=f\"http://api.openweathermap.org/data/2.5/weather?q={df.loc[i,'City']}&appid={weather_api_key}\"\n",
    "    print(df.loc[i, 'City'])\n",
    "    response=requests.get(url).json()\n",
    "    if len(response)==13:\n",
    "        df.loc[i, 'Lat']=response['coord']['lat']\n",
    "        df.loc[i, 'Lng']=response['coord']['lon']\n",
    "        df.loc[i, 'temp_max']=response['main']['temp']\n",
    "        df.loc[i, 'Humidity']=response['main']['humidity']\n",
    "        df.loc[i, 'Cloudiness']=response['clouds']['all']\n",
    "        df.loc[i, 'Wind_speed']=response['wind']['speed']\n",
    "        df.loc[i, 'Country']=response['sys']['country']\n",
    "        df.loc[i, 'Date']=response['dt']\n",
    "    else:\n",
    "        continue \n",
    "  "
   ]
  },
  {
   "cell_type": "code",
   "execution_count": 13,
   "metadata": {},
   "outputs": [
    {
     "data": {
      "text/html": [
       "<div>\n",
       "<style scoped>\n",
       "    .dataframe tbody tr th:only-of-type {\n",
       "        vertical-align: middle;\n",
       "    }\n",
       "\n",
       "    .dataframe tbody tr th {\n",
       "        vertical-align: top;\n",
       "    }\n",
       "\n",
       "    .dataframe thead th {\n",
       "        text-align: right;\n",
       "    }\n",
       "</style>\n",
       "<table border=\"1\" class=\"dataframe\">\n",
       "  <thead>\n",
       "    <tr style=\"text-align: right;\">\n",
       "      <th></th>\n",
       "      <th>City</th>\n",
       "      <th>Lat</th>\n",
       "      <th>Lng</th>\n",
       "      <th>temp_max</th>\n",
       "      <th>Humidity</th>\n",
       "      <th>Cloudiness</th>\n",
       "      <th>Wind_speed</th>\n",
       "      <th>Country</th>\n",
       "      <th>Date</th>\n",
       "    </tr>\n",
       "  </thead>\n",
       "  <tbody>\n",
       "    <tr>\n",
       "      <th>2</th>\n",
       "      <td>alugan</td>\n",
       "      <td>12.22</td>\n",
       "      <td>125.48</td>\n",
       "      <td>301.41</td>\n",
       "      <td>76.0</td>\n",
       "      <td>100.0</td>\n",
       "      <td>2.63</td>\n",
       "      <td>PH</td>\n",
       "      <td>1.595989e+09</td>\n",
       "    </tr>\n",
       "    <tr>\n",
       "      <th>3</th>\n",
       "      <td>mataura</td>\n",
       "      <td>-46.19</td>\n",
       "      <td>168.86</td>\n",
       "      <td>283.68</td>\n",
       "      <td>65.0</td>\n",
       "      <td>100.0</td>\n",
       "      <td>2.60</td>\n",
       "      <td>NZ</td>\n",
       "      <td>1.595989e+09</td>\n",
       "    </tr>\n",
       "    <tr>\n",
       "      <th>4</th>\n",
       "      <td>ushuaia</td>\n",
       "      <td>-54.80</td>\n",
       "      <td>-68.30</td>\n",
       "      <td>275.15</td>\n",
       "      <td>80.0</td>\n",
       "      <td>40.0</td>\n",
       "      <td>9.30</td>\n",
       "      <td>AR</td>\n",
       "      <td>1.595989e+09</td>\n",
       "    </tr>\n",
       "    <tr>\n",
       "      <th>6</th>\n",
       "      <td>rikitea</td>\n",
       "      <td>-23.12</td>\n",
       "      <td>-134.97</td>\n",
       "      <td>295.66</td>\n",
       "      <td>81.0</td>\n",
       "      <td>1.0</td>\n",
       "      <td>6.16</td>\n",
       "      <td>PF</td>\n",
       "      <td>1.595989e+09</td>\n",
       "    </tr>\n",
       "    <tr>\n",
       "      <th>7</th>\n",
       "      <td>ahipara</td>\n",
       "      <td>-35.17</td>\n",
       "      <td>173.17</td>\n",
       "      <td>288.38</td>\n",
       "      <td>67.0</td>\n",
       "      <td>100.0</td>\n",
       "      <td>5.16</td>\n",
       "      <td>NZ</td>\n",
       "      <td>1.595989e+09</td>\n",
       "    </tr>\n",
       "    <tr>\n",
       "      <th>...</th>\n",
       "      <td>...</td>\n",
       "      <td>...</td>\n",
       "      <td>...</td>\n",
       "      <td>...</td>\n",
       "      <td>...</td>\n",
       "      <td>...</td>\n",
       "      <td>...</td>\n",
       "      <td>...</td>\n",
       "      <td>...</td>\n",
       "    </tr>\n",
       "    <tr>\n",
       "      <th>496</th>\n",
       "      <td>great yarmouth</td>\n",
       "      <td>52.61</td>\n",
       "      <td>1.73</td>\n",
       "      <td>283.76</td>\n",
       "      <td>91.0</td>\n",
       "      <td>0.0</td>\n",
       "      <td>6.08</td>\n",
       "      <td>GB</td>\n",
       "      <td>1.595989e+09</td>\n",
       "    </tr>\n",
       "    <tr>\n",
       "      <th>497</th>\n",
       "      <td>cookeville</td>\n",
       "      <td>36.16</td>\n",
       "      <td>-85.50</td>\n",
       "      <td>297.18</td>\n",
       "      <td>88.0</td>\n",
       "      <td>75.0</td>\n",
       "      <td>0.41</td>\n",
       "      <td>US</td>\n",
       "      <td>1.595989e+09</td>\n",
       "    </tr>\n",
       "    <tr>\n",
       "      <th>498</th>\n",
       "      <td>grand-lahou</td>\n",
       "      <td>5.14</td>\n",
       "      <td>-5.02</td>\n",
       "      <td>295.81</td>\n",
       "      <td>91.0</td>\n",
       "      <td>76.0</td>\n",
       "      <td>2.99</td>\n",
       "      <td>CI</td>\n",
       "      <td>1.595989e+09</td>\n",
       "    </tr>\n",
       "    <tr>\n",
       "      <th>499</th>\n",
       "      <td>ostersund</td>\n",
       "      <td>63.18</td>\n",
       "      <td>14.64</td>\n",
       "      <td>285.15</td>\n",
       "      <td>100.0</td>\n",
       "      <td>100.0</td>\n",
       "      <td>5.70</td>\n",
       "      <td>SE</td>\n",
       "      <td>1.595989e+09</td>\n",
       "    </tr>\n",
       "    <tr>\n",
       "      <th>500</th>\n",
       "      <td>chernyshevskiy</td>\n",
       "      <td>63.01</td>\n",
       "      <td>112.47</td>\n",
       "      <td>287.88</td>\n",
       "      <td>61.0</td>\n",
       "      <td>84.0</td>\n",
       "      <td>2.39</td>\n",
       "      <td>RU</td>\n",
       "      <td>1.595989e+09</td>\n",
       "    </tr>\n",
       "  </tbody>\n",
       "</table>\n",
       "<p>416 rows × 9 columns</p>\n",
       "</div>"
      ],
      "text/plain": [
       "               City    Lat     Lng  temp_max  Humidity  Cloudiness  \\\n",
       "2            alugan  12.22  125.48    301.41      76.0       100.0   \n",
       "3           mataura -46.19  168.86    283.68      65.0       100.0   \n",
       "4           ushuaia -54.80  -68.30    275.15      80.0        40.0   \n",
       "6           rikitea -23.12 -134.97    295.66      81.0         1.0   \n",
       "7           ahipara -35.17  173.17    288.38      67.0       100.0   \n",
       "..              ...    ...     ...       ...       ...         ...   \n",
       "496  great yarmouth  52.61    1.73    283.76      91.0         0.0   \n",
       "497      cookeville  36.16  -85.50    297.18      88.0        75.0   \n",
       "498     grand-lahou   5.14   -5.02    295.81      91.0        76.0   \n",
       "499       ostersund  63.18   14.64    285.15     100.0       100.0   \n",
       "500  chernyshevskiy  63.01  112.47    287.88      61.0        84.0   \n",
       "\n",
       "     Wind_speed Country          Date  \n",
       "2          2.63      PH  1.595989e+09  \n",
       "3          2.60      NZ  1.595989e+09  \n",
       "4          9.30      AR  1.595989e+09  \n",
       "6          6.16      PF  1.595989e+09  \n",
       "7          5.16      NZ  1.595989e+09  \n",
       "..          ...     ...           ...  \n",
       "496        6.08      GB  1.595989e+09  \n",
       "497        0.41      US  1.595989e+09  \n",
       "498        2.99      CI  1.595989e+09  \n",
       "499        5.70      SE  1.595989e+09  \n",
       "500        2.39      RU  1.595989e+09  \n",
       "\n",
       "[416 rows x 9 columns]"
      ]
     },
     "execution_count": 13,
     "metadata": {},
     "output_type": "execute_result"
    }
   ],
   "source": [
    "df.head()\n",
    "\n",
    "df=df.dropna(axis=0, how='any')\n",
    "df"
   ]
  },
  {
   "cell_type": "markdown",
   "metadata": {},
   "source": [
    "## Inspect the data and remove the cities where the humidity > 100%.\n",
    "----\n",
    "Skip this step if there are no cities that have humidity > 100%. "
   ]
  },
  {
   "cell_type": "code",
   "execution_count": 14,
   "metadata": {},
   "outputs": [
    {
     "data": {
      "text/html": [
       "<div>\n",
       "<style scoped>\n",
       "    .dataframe tbody tr th:only-of-type {\n",
       "        vertical-align: middle;\n",
       "    }\n",
       "\n",
       "    .dataframe tbody tr th {\n",
       "        vertical-align: top;\n",
       "    }\n",
       "\n",
       "    .dataframe thead th {\n",
       "        text-align: right;\n",
       "    }\n",
       "</style>\n",
       "<table border=\"1\" class=\"dataframe\">\n",
       "  <thead>\n",
       "    <tr style=\"text-align: right;\">\n",
       "      <th></th>\n",
       "      <th>City</th>\n",
       "      <th>Lat</th>\n",
       "      <th>Lng</th>\n",
       "      <th>temp_max</th>\n",
       "      <th>Humidity</th>\n",
       "      <th>Cloudiness</th>\n",
       "      <th>Wind_speed</th>\n",
       "      <th>Country</th>\n",
       "      <th>Date</th>\n",
       "    </tr>\n",
       "  </thead>\n",
       "  <tbody>\n",
       "    <tr>\n",
       "      <th>2</th>\n",
       "      <td>alugan</td>\n",
       "      <td>12.22</td>\n",
       "      <td>125.48</td>\n",
       "      <td>301.41</td>\n",
       "      <td>76.0</td>\n",
       "      <td>100.0</td>\n",
       "      <td>2.63</td>\n",
       "      <td>PH</td>\n",
       "      <td>1.595989e+09</td>\n",
       "    </tr>\n",
       "    <tr>\n",
       "      <th>3</th>\n",
       "      <td>mataura</td>\n",
       "      <td>-46.19</td>\n",
       "      <td>168.86</td>\n",
       "      <td>283.68</td>\n",
       "      <td>65.0</td>\n",
       "      <td>100.0</td>\n",
       "      <td>2.60</td>\n",
       "      <td>NZ</td>\n",
       "      <td>1.595989e+09</td>\n",
       "    </tr>\n",
       "    <tr>\n",
       "      <th>4</th>\n",
       "      <td>ushuaia</td>\n",
       "      <td>-54.80</td>\n",
       "      <td>-68.30</td>\n",
       "      <td>275.15</td>\n",
       "      <td>80.0</td>\n",
       "      <td>40.0</td>\n",
       "      <td>9.30</td>\n",
       "      <td>AR</td>\n",
       "      <td>1.595989e+09</td>\n",
       "    </tr>\n",
       "    <tr>\n",
       "      <th>6</th>\n",
       "      <td>rikitea</td>\n",
       "      <td>-23.12</td>\n",
       "      <td>-134.97</td>\n",
       "      <td>295.66</td>\n",
       "      <td>81.0</td>\n",
       "      <td>1.0</td>\n",
       "      <td>6.16</td>\n",
       "      <td>PF</td>\n",
       "      <td>1.595989e+09</td>\n",
       "    </tr>\n",
       "    <tr>\n",
       "      <th>7</th>\n",
       "      <td>ahipara</td>\n",
       "      <td>-35.17</td>\n",
       "      <td>173.17</td>\n",
       "      <td>288.38</td>\n",
       "      <td>67.0</td>\n",
       "      <td>100.0</td>\n",
       "      <td>5.16</td>\n",
       "      <td>NZ</td>\n",
       "      <td>1.595989e+09</td>\n",
       "    </tr>\n",
       "  </tbody>\n",
       "</table>\n",
       "</div>"
      ],
      "text/plain": [
       "      City    Lat     Lng  temp_max  Humidity  Cloudiness  Wind_speed Country  \\\n",
       "2   alugan  12.22  125.48    301.41      76.0       100.0        2.63      PH   \n",
       "3  mataura -46.19  168.86    283.68      65.0       100.0        2.60      NZ   \n",
       "4  ushuaia -54.80  -68.30    275.15      80.0        40.0        9.30      AR   \n",
       "6  rikitea -23.12 -134.97    295.66      81.0         1.0        6.16      PF   \n",
       "7  ahipara -35.17  173.17    288.38      67.0       100.0        5.16      NZ   \n",
       "\n",
       "           Date  \n",
       "2  1.595989e+09  \n",
       "3  1.595989e+09  \n",
       "4  1.595989e+09  \n",
       "6  1.595989e+09  \n",
       "7  1.595989e+09  "
      ]
     },
     "execution_count": 14,
     "metadata": {},
     "output_type": "execute_result"
    }
   ],
   "source": [
    "df=df.loc[df['Humidity']<=100]\n",
    "pd.set_option('display.max_row', None)\n",
    "\n",
    "df.head()\n"
   ]
  },
  {
   "cell_type": "code",
   "execution_count": 15,
   "metadata": {},
   "outputs": [],
   "source": [
    "#  Get the indices of cities that have humidity over 100%.\n"
   ]
  },
  {
   "cell_type": "code",
   "execution_count": 16,
   "metadata": {},
   "outputs": [],
   "source": [
    "# Make a new DataFrame equal to the city data to drop all humidity outliers by index.\n",
    "# Passing \"inplace=False\" will make a copy of the city_data DataFrame, which we call \"clean_city_data\".\n"
   ]
  },
  {
   "cell_type": "code",
   "execution_count": 17,
   "metadata": {},
   "outputs": [],
   "source": [
    "# Extract relevant fields from the data frame\n",
    "df.to_csv('clean_city_date.csv')\n",
    "\n",
    "# Export the City_Data into a csv\n"
   ]
  },
  {
   "cell_type": "markdown",
   "metadata": {},
   "source": [
    "## Plotting the Data\n",
    "* Use proper labeling of the plots using plot titles (including date of analysis) and axes labels.\n",
    "* Save the plotted figures as .pngs."
   ]
  },
  {
   "cell_type": "markdown",
   "metadata": {},
   "source": [
    "## Latitude vs. Temperature Plot"
   ]
  },
  {
   "cell_type": "code",
   "execution_count": 18,
   "metadata": {
    "scrolled": true
   },
   "outputs": [
    {
     "data": {
      "text/plain": [
       "<matplotlib.collections.PathCollection at 0x29eafdfff48>"
      ]
     },
     "execution_count": 18,
     "metadata": {},
     "output_type": "execute_result"
    },
    {
     "data": {
      "image/png": "[encoded data removed]",
      "text/plain": [
       "<Figure size 432x288 with 1 Axes>"
      ]
     },
     "metadata": {
      "needs_background": "light"
     },
     "output_type": "display_data"
    }
   ],
   "source": [
    "plt.scatter(df['temp_max'], df['Humidity'])"
   ]
  },
  {
   "cell_type": "markdown",
   "metadata": {},
   "source": [
    "## Latitude vs. Humidity Plot"
   ]
  },
  {
   "cell_type": "code",
   "execution_count": 19,
   "metadata": {},
   "outputs": [
    {
     "data": {
      "text/plain": [
       "<matplotlib.collections.PathCollection at 0x29eafe9e648>"
      ]
     },
     "execution_count": 19,
     "metadata": {},
     "output_type": "execute_result"
    },
    {
     "data": {
      "image/png": "[encoded data removed]",
      "text/plain": [
       "<Figure size 432x288 with 1 Axes>"
      ]
     },
     "metadata": {
      "needs_background": "light"
     },
     "output_type": "display_data"
    }
   ],
   "source": [
    "plt.scatter(df['Lat'], df['Humidity'])"
   ]
  },
  {
   "cell_type": "markdown",
   "metadata": {},
   "source": [
    "## Latitude vs. Cloudiness Plot"
   ]
  },
  {
   "cell_type": "code",
   "execution_count": 27,
   "metadata": {},
   "outputs": [
    {
     "data": {
      "text/plain": [
       "Text(6, 10, 'y = 0.16x + 40.55')"
      ]
     },
     "execution_count": 27,
     "metadata": {},
     "output_type": "execute_result"
    },
    {
     "data": {
      "image/png": "[encoded data removed]",
      "text/plain": [
       "<Figure size 432x288 with 1 Axes>"
      ]
     },
     "metadata": {
      "needs_background": "light"
     },
     "output_type": "display_data"
    }
   ],
   "source": [
    "plt.scatter(df['Lat'], df['Cloudiness'])\n",
    "plt.title('Latitude vs. Cloudiness Plot')\n",
    "(slope, intercept, rvalue, pvalue, stderr) = linregress(df['Lat'], df['Cloudiness'])\n",
    "regress_values = df['Lat'] * slope + intercept\n",
    "line_eq = \"y = \" + str(round(slope,2)) + \"x + \" + str(round(intercept,2))\n",
    "plt.scatter(df['Lat'], df['Cloudiness'])\n",
    "plt.plot(df['Lat'],regress_values,\"r-\")\n",
    "plt.annotate(line_eq,(6,10),fontsize=15,color=\"red\")"
   ]
  },
  {
   "cell_type": "markdown",
   "metadata": {},
   "source": [
    "## Latitude vs. Wind Speed Plot"
   ]
  },
  {
   "cell_type": "code",
   "execution_count": 66,
   "metadata": {},
   "outputs": [
    {
     "data": {
      "text/plain": [
       "<matplotlib.collections.PathCollection at 0x29eb2505a08>"
      ]
     },
     "execution_count": 66,
     "metadata": {},
     "output_type": "execute_result"
    },
    {
     "data": {
      "image/png": "[encoded data removed]",
      "text/plain": [
       "<Figure size 432x288 with 1 Axes>"
      ]
     },
     "metadata": {
      "needs_background": "light"
     },
     "output_type": "display_data"
    }
   ],
   "source": [
    "plt.scatter(df['Lat'], df['Wind_speed'])"
   ]
  },
  {
   "cell_type": "markdown",
   "metadata": {},
   "source": [
    "## Linear Regression"
   ]
  },
  {
   "cell_type": "code",
   "execution_count": 67,
   "metadata": {},
   "outputs": [],
   "source": [
    "# OPTIONAL: Create a function to create Linear Regression plots\n",
    "def linReg(x_values, y_values, xlab, ylab): \n",
    "\n",
    "    (slope, intercept, rvalue, pvalue, stderr) = linregress(x_values, y_values)\n",
    "    regress_values = x_values * slope + intercept\n",
    "    line_eq = \"y = \" + str(round(slope,2)) + \"x + \" + str(round(intercept,2))\n",
    "    plt.scatter(x_values,y_values)\n",
    "    plt.plot(x_values,regress_values,\"r-\")\n",
    "    plt.annotate(line_eq,(6,10),fontsize=15,color=\"red\")\n",
    "    plt.xlabel(xlab)\n",
    "    plt.ylabel(ylab)\n",
    "    plt.show()"
   ]
  },
  {
   "cell_type": "code",
   "execution_count": 68,
   "metadata": {},
   "outputs": [
    {
     "data": {
      "image/png": "[encoded data removed]",
      "text/plain": [
       "<Figure size 432x288 with 1 Axes>"
      ]
     },
     "metadata": {
      "needs_background": "light"
     },
     "output_type": "display_data"
    }
   ],
   "source": [
    "# Create Northern and Southern Hemisphere DataFrames\n",
    "southDf=df.loc[df['Lat']<0]\n",
    "northDf=df.loc[df['Lat']>0]\n",
    "linReg(df['Humidity'],df['Lat'], 'Latitude', 'Humidity')\n",
    "\n"
   ]
  },
  {
   "cell_type": "markdown",
   "metadata": {},
   "source": [
    "####  Northern Hemisphere - Max Temp vs. Latitude Linear Regression"
   ]
  },
  {
   "cell_type": "code",
   "execution_count": 69,
   "metadata": {},
   "outputs": [
    {
     "data": {
      "image/png": "[encoded data removed]",
      "text/plain": [
       "<Figure size 432x288 with 1 Axes>"
      ]
     },
     "metadata": {
      "needs_background": "light"
     },
     "output_type": "display_data"
    }
   ],
   "source": [
    "linReg(northDf['temp_max'], northDf['Lat'], 'max temperature', 'latitude')"
   ]
  },
  {
   "cell_type": "markdown",
   "metadata": {},
   "source": [
    "####  Southern Hemisphere - Max Temp vs. Latitude Linear Regression"
   ]
  },
  {
   "cell_type": "code",
   "execution_count": 70,
   "metadata": {},
   "outputs": [
    {
     "data": {
      "image/png": "[encoded data removed]",
      "text/plain": [
       "<Figure size 432x288 with 1 Axes>"
      ]
     },
     "metadata": {
      "needs_background": "light"
     },
     "output_type": "display_data"
    }
   ],
   "source": [
    "linReg(southDf['Lat'], southDf['temp_max'], 'Max Temp', 'Latitude')"
   ]
  },
  {
   "cell_type": "markdown",
   "metadata": {},
   "source": [
    "####  Northern Hemisphere - Humidity (%) vs. Latitude Linear Regression"
   ]
  },
  {
   "cell_type": "code",
   "execution_count": 71,
   "metadata": {},
   "outputs": [
    {
     "data": {
      "image/png": "[encoded data removed]",
      "text/plain": [
       "<Figure size 432x288 with 1 Axes>"
      ]
     },
     "metadata": {
      "needs_background": "light"
     },
     "output_type": "display_data"
    }
   ],
   "source": [
    "linReg(northDf.Humidity, northDf.Lat, 'Humidity', 'Lat')"
   ]
  },
  {
   "cell_type": "markdown",
   "metadata": {},
   "source": [
    "####  Southern Hemisphere - Humidity (%) vs. Latitude Linear Regression"
   ]
  },
  {
   "cell_type": "code",
   "execution_count": 72,
   "metadata": {},
   "outputs": [
    {
     "data": {
      "image/png": "[encoded data removed]",
      "text/plain": [
       "<Figure size 432x288 with 1 Axes>"
      ]
     },
     "metadata": {
      "needs_background": "light"
     },
     "output_type": "display_data"
    }
   ],
   "source": [
    "linReg(southDf.Humidity, southDf.Lat, 'Humidity', 'Lat')"
   ]
  },
  {
   "cell_type": "markdown",
   "metadata": {},
   "source": [
    "####  Northern Hemisphere - Cloudiness (%) vs. Latitude Linear Regression"
   ]
  },
  {
   "cell_type": "code",
   "execution_count": 73,
   "metadata": {},
   "outputs": [
    {
     "data": {
      "image/png": "[encoded data removed]",
      "text/plain": [
       "<Figure size 432x288 with 1 Axes>"
      ]
     },
     "metadata": {
      "needs_background": "light"
     },
     "output_type": "display_data"
    }
   ],
   "source": [
    "linReg(northDf.Cloudiness, northDf.Lat, 'Cloudiness %', 'Lat')"
   ]
  },
  {
   "cell_type": "markdown",
   "metadata": {},
   "source": [
    "####  Southern Hemisphere - Cloudiness (%) vs. Latitude Linear Regression"
   ]
  },
  {
   "cell_type": "code",
   "execution_count": 74,
   "metadata": {},
   "outputs": [
    {
     "data": {
      "image/png": "[encoded data removed]",
      "text/plain": [
       "<Figure size 432x288 with 1 Axes>"
      ]
     },
     "metadata": {
      "needs_background": "light"
     },
     "output_type": "display_data"
    }
   ],
   "source": [
    "linReg(southDf.Humidity, southDf.Lat, 'Humidity', 'Lat')"
   ]
  },
  {
   "cell_type": "markdown",
   "metadata": {},
   "source": [
    "####  Northern Hemisphere - Wind Speed (mph) vs. Latitude Linear Regression"
   ]
  },
  {
   "cell_type": "code",
   "execution_count": 75,
   "metadata": {},
   "outputs": [
    {
     "data": {
      "image/png": "[encoded data removed]",
      "text/plain": [
       "<Figure size 432x288 with 1 Axes>"
      ]
     },
     "metadata": {
      "needs_background": "light"
     },
     "output_type": "display_data"
    }
   ],
   "source": [
    "linReg(northDf.Wind_speed, northDf.Lat, 'Humidity', 'Lat')"
   ]
  },
  {
   "cell_type": "markdown",
   "metadata": {},
   "source": [
    "####  Southern Hemisphere - Wind Speed (mph) vs. Latitude Linear Regression"
   ]
  },
  {
   "cell_type": "code",
   "execution_count": 76,
   "metadata": {},
   "outputs": [
    {
     "data": {
      "image/png": "[encoded data removed]",
      "text/plain": [
       "<Figure size 432x288 with 1 Axes>"
      ]
     },
     "metadata": {
      "needs_background": "light"
     },
     "output_type": "display_data"
    }
   ],
   "source": [
    "linReg(southDf.Humidity, southDf.Lat, 'Wind speed', 'Lat')"
   ]
  },
  {
   "cell_type": "code",
   "execution_count": null,
   "metadata": {},
   "outputs": [],
   "source": []
  },
  {
   "cell_type": "code",
   "execution_count": null,
   "metadata": {},
   "outputs": [],
   "source": []
  }
 ],
 "metadata": {
  "anaconda-cloud": {},
  "kernel_info": {
   "name": "python3"
  },
  "kernelspec": {
   "display_name": "Python 3",
   "language": "python",
   "name": "python3"
  },
  "language_info": {
   "codemirror_mode": {
    "name": "ipython",
    "version": 3
   },
   "file_extension": ".py",
   "mimetype": "text/x-python",
   "name": "python",
   "nbconvert_exporter": "python",
   "pygments_lexer": "ipython3",
   "version": "3.7.6"
  },
  "latex_envs": {
   "LaTeX_envs_menu_present": true,
   "autoclose": false,
   "autocomplete": true,
   "bibliofile": "biblio.bib",
   "cite_by": "apalike",
   "current_citInitial": 1,
   "eqLabelWithNumbers": true,
   "eqNumInitial": 1,
   "hotkeys": {
    "equation": "Ctrl-E",
    "itemize": "Ctrl-I"
   },
   "labels_anchors": false,
   "latex_user_defs": false,
   "report_style_numbering": false,
   "user_envs_cfg": false
  },
  "nteract": {
   "version": "0.12.3"
  }
 },
 "nbformat": 4,
 "nbformat_minor": 2
}
